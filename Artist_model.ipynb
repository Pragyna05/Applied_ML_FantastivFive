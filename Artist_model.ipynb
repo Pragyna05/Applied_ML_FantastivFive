{
 "cells": [
  {
   "cell_type": "markdown",
   "id": "4498560f",
   "metadata": {},
   "source": [
    "Artist Model "
   ]
  },
  {
   "cell_type": "markdown",
   "id": "df13183d",
   "metadata": {},
   "source": [
    "In the following code, we open the file, create a mapping from a song ID to the number of times this song appears, and close the file."
   ]
  },
  {
   "cell_type": "code",
   "execution_count": 92,
   "id": "522f0b79",
   "metadata": {},
   "outputs": [],
   "source": [
    "import numpy as np \n",
    "import pandas as pd"
   ]
  },
  {
   "cell_type": "code",
   "execution_count": 93,
   "id": "436dda44",
   "metadata": {},
   "outputs": [],
   "source": [
    "f = open('/Users/sinasaba/Desktop/MillionSongSubset/AdditionalFiles/kaggle/kaggle_visible_evaluation_triplets.txt', 'r')\n",
    "song_to_count = dict() \n",
    "for line in f: \n",
    "    _, song, _ = line.strip().split('\\t')\n",
    "    if song in song_to_count: \n",
    "        song_to_count[song] += 1 \n",
    "    else:\n",
    "        song_to_count[song] = 1\n",
    "        \n",
    "f.close() "
   ]
  },
  {
   "cell_type": "markdown",
   "id": "e572132b",
   "metadata": {},
   "source": [
    "we reorder the songs by decreasing popularity:"
   ]
  },
  {
   "cell_type": "code",
   "execution_count": 94,
   "id": "3aa6affe",
   "metadata": {},
   "outputs": [],
   "source": [
    "songs_orderd = sorted(song_to_count.keys(), \n",
    "                     key = lambda s: song_to_count[s], \n",
    "                     reverse = True)"
   ]
  },
  {
   "cell_type": "markdown",
   "id": "e8003746",
   "metadata": {},
   "source": [
    "We will recommend the most popular songs to every user, but we must filter out songs already in the user’s library. Reopening the triplets file, we will create a map from user to songs they have listened to."
   ]
  },
  {
   "cell_type": "code",
   "execution_count": 95,
   "id": "cd22cbb8",
   "metadata": {},
   "outputs": [],
   "source": [
    "f = open('/Users/sinasaba/Desktop/MillionSongSubset/AdditionalFiles/kaggle/kaggle_visible_evaluation_triplets.txt', 'r')\n",
    "user_to_songs = dict()\n",
    "for line in f: \n",
    "    user, song, _ = line.strip().split('\\t')\n",
    "    if user in user_to_songs: \n",
    "        user_to_songs[user].add(song)\n",
    "    else:\n",
    "        user_to_songs[user] = set([song])\n",
    "f.close()"
   ]
  },
  {
   "cell_type": "markdown",
   "id": "3f9ca9ad",
   "metadata": {},
   "source": [
    "Ok, we now have the songs ordered by popularity, and listening history for each user. To produce our submission file, we’ll need to load the canonical ordering of users:"
   ]
  },
  {
   "cell_type": "code",
   "execution_count": 96,
   "id": "75856097",
   "metadata": {},
   "outputs": [],
   "source": [
    "f = open('/Users/sinasaba/Desktop/MillionSongSubset/AdditionalFiles/kaggle/kaggle_users.txt', 'r')\n",
    "canonical_users = map(lambda line: line.strip(), f.readlines()) \n",
    "f.close()"
   ]
  },
  {
   "cell_type": "code",
   "execution_count": 97,
   "id": "1c003a05",
   "metadata": {},
   "outputs": [],
   "source": [
    "canonical_users = list(canonical_users)"
   ]
  },
  {
   "cell_type": "markdown",
   "id": "eef5ebf8",
   "metadata": {},
   "source": [
    "We are almost there, but we're missing one more thing. To reduce the size of submission files, we do not submit a list of song IDs such as SOSOUKN12A8C13AB79, but rather their index in the canonical list of songs.\n",
    "Let's create the map from song ID to song index (for those unfamiliar with python, this line is even more magic than before)."
   ]
  },
  {
   "cell_type": "code",
   "execution_count": 98,
   "id": "e76efa05",
   "metadata": {},
   "outputs": [],
   "source": [
    "g = open('/Users/sinasaba/Desktop/MillionSongSubset/AdditionalFiles/kaggle/kaggle_songs.txt', 'r')\n",
    "song_to_index = dict(map(lambda line: line.strip().split(' '), g.readlines()))\n",
    "g.close()"
   ]
  },
  {
   "cell_type": "markdown",
   "id": "74d0d9d7",
   "metadata": {},
   "source": [
    "now we define a dic to map song id to artist "
   ]
  },
  {
   "cell_type": "code",
   "execution_count": 99,
   "id": "4c36a98e",
   "metadata": {},
   "outputs": [],
   "source": [
    "f = open('/Users/sinasaba/Desktop/MillionSongSubset/AdditionalFiles/kaggle/unique_tracks.txt', 'r')\n",
    "sondId_to_artists = dict()\n",
    "for line in f: \n",
    "    track_id, song_id, artist, title = line.strip().split('<SEP>')\n",
    "    sondId_to_artists[song_id] = artist\n",
    "\n",
    "f.close()"
   ]
  },
  {
   "cell_type": "markdown",
   "id": "1ff3ccfe",
   "metadata": {},
   "source": [
    "Now we use previous dic to map the artists to each user id"
   ]
  },
  {
   "cell_type": "code",
   "execution_count": 100,
   "id": "86fcdbef",
   "metadata": {},
   "outputs": [],
   "source": [
    "user_to_artists = dict()\n",
    "for user in user_to_songs.keys():\n",
    "    for song in user_to_songs[user]:\n",
    "        if user in user_to_artists:\n",
    "            user_to_artists[user].add(sondId_to_artists[song])\n",
    "        else:\n",
    "            user_to_artists[user] = set([sondId_to_artists[song]])"
   ]
  },
  {
   "cell_type": "markdown",
   "id": "6c63e169",
   "metadata": {},
   "source": [
    "Finally, we are ready to create the submission file. For each user in the canonical list, recommend the songs in order of popularity, except those already in the user’s profile. also in this case we check if the user have that artist in his or her history, for now we need to following dict for reordering the songs "
   ]
  },
  {
   "cell_type": "code",
   "execution_count": 101,
   "id": "49b11a71",
   "metadata": {},
   "outputs": [],
   "source": [
    "index_orderd = dict()\n",
    "for i in range(len(songs_orderd)): \n",
    "    index_orderd[songs_orderd[i]] = i"
   ]
  },
  {
   "cell_type": "markdown",
   "id": "c37b6e76",
   "metadata": {},
   "source": [
    "the following dict will map each artist to his or her songs "
   ]
  },
  {
   "cell_type": "code",
   "execution_count": 102,
   "id": "9653d938",
   "metadata": {},
   "outputs": [],
   "source": [
    "artist_songs = dict() "
   ]
  },
  {
   "cell_type": "code",
   "execution_count": 103,
   "id": "53e3c4be",
   "metadata": {},
   "outputs": [],
   "source": [
    "for song in songs_orderd: \n",
    "    if sondId_to_artists[song] in artist_songs.keys(): \n",
    "        artist_songs[sondId_to_artists[song]].add(song)\n",
    "    else:\n",
    "        artist_songs[sondId_to_artists[song]] = set([song])"
   ]
  },
  {
   "cell_type": "markdown",
   "id": "9c048646",
   "metadata": {},
   "source": [
    "And finally we are ready. here we search for the other songs from the same artist that a user had listen to. then we put them in order and add other popular songs if we need more."
   ]
  },
  {
   "cell_type": "code",
   "execution_count": 104,
   "id": "fb633d77",
   "metadata": {},
   "outputs": [],
   "source": [
    "f = open('/Users/sinasaba/Desktop/MillionSongSubset/AdditionalFiles/kaggle/submission_artist.txt', 'w')\n",
    "for user in list(canonical_users):\n",
    "    songs_to_recommend = []\n",
    "\n",
    "    new_order = []   \n",
    "    artists = user_to_artists[user]\n",
    "    \n",
    "    for artist in artists: \n",
    "        for song in artist_songs[artist]: \n",
    "            new_order.append(song)\n",
    "    \n",
    "    new_order = sorted(new_order, key = lambda s: index_orderd[s], reverse = False)\n",
    "            \n",
    "    for song in songs_orderd:\n",
    "        if len(new_order) >= 600:\n",
    "                break\n",
    "        if not song in new_order:  \n",
    "            new_order.append(song)\n",
    "            \n",
    "    for song in new_order:\n",
    "        if len(songs_to_recommend) >= 500:\n",
    "            break\n",
    "        if not song in user_to_songs[user]:\n",
    "            songs_to_recommend.append(song)\n",
    "    # Transform song IDs to song indexes\n",
    "    indices = map(lambda s: song_to_index[s],\n",
    "                  songs_to_recommend)\n",
    "    # Write line for that user\n",
    "    f.write(' '.join(indices) + '\\n')\n",
    "    \n",
    "f.close()"
   ]
  },
  {
   "cell_type": "code",
   "execution_count": null,
   "id": "19dd80c2",
   "metadata": {},
   "outputs": [],
   "source": []
  }
 ],
 "metadata": {
  "kernelspec": {
   "display_name": "Python 3 (ipykernel)",
   "language": "python",
   "name": "python3"
  },
  "language_info": {
   "codemirror_mode": {
    "name": "ipython",
    "version": 3
   },
   "file_extension": ".py",
   "mimetype": "text/x-python",
   "name": "python",
   "nbconvert_exporter": "python",
   "pygments_lexer": "ipython3",
   "version": "3.9.7"
  }
 },
 "nbformat": 4,
 "nbformat_minor": 5
}
