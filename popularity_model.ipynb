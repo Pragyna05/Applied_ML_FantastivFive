{
 "cells": [
  {
   "cell_type": "markdown",
   "id": "000cc45e",
   "metadata": {},
   "source": [
    "Popularity_model"
   ]
  },
  {
   "cell_type": "markdown",
   "id": "72592ef2",
   "metadata": {},
   "source": [
    "In the following code, we open the file, create a mapping from a song ID to the number of times this song appears, and close the file. "
   ]
  },
  {
   "cell_type": "code",
   "execution_count": 14,
   "id": "9a305ea6",
   "metadata": {},
   "outputs": [],
   "source": [
    "f = open('/Users/sinasaba/Desktop/MillionSongSubset/AdditionalFiles/kaggle/kaggle_visible_evaluation_triplets.txt', 'r')\n",
    "song_to_count = dict() \n",
    "for line in f: \n",
    "    _, song, _ = line.strip().split('\\t')\n",
    "    if song in song_to_count: \n",
    "        song_to_count[song] += 1 \n",
    "    else:\n",
    "        song_to_count[song] = 1\n",
    "        \n",
    "f.close() "
   ]
  },
  {
   "cell_type": "markdown",
   "id": "1ba426f6",
   "metadata": {},
   "source": [
    "we reorder the songs by decreasing popularity: "
   ]
  },
  {
   "cell_type": "code",
   "execution_count": 15,
   "id": "de33db59",
   "metadata": {},
   "outputs": [],
   "source": [
    "songs_orderd = sorted(song_to_count.keys(), \n",
    "                     key = lambda s: song_to_count[s], \n",
    "                     reverse = True)"
   ]
  },
  {
   "cell_type": "markdown",
   "id": "4aeada76",
   "metadata": {},
   "source": [
    "We will recommend the most popular songs to every user, but we must filter out songs already in the user’s library. Reopening the triplets file, we will create a map from user to songs they have listened to."
   ]
  },
  {
   "cell_type": "code",
   "execution_count": 16,
   "id": "9ea1765c",
   "metadata": {},
   "outputs": [],
   "source": [
    "f = open('/Users/sinasaba/Desktop/MillionSongSubset/AdditionalFiles/kaggle/kaggle_visible_evaluation_triplets.txt', 'r')\n",
    "user_to_songs = dict()\n",
    "for line in f: \n",
    "    user, song, _ = line.strip().split('\\t')\n",
    "    if user in user_to_songs: \n",
    "        user_to_songs[user].add(song)\n",
    "    else:\n",
    "        user_to_songs[user] = set([song])\n",
    "f.close()"
   ]
  },
  {
   "cell_type": "markdown",
   "id": "dc4adc38",
   "metadata": {},
   "source": [
    "For each user, we now have a list of songs: "
   ]
  },
  {
   "cell_type": "markdown",
   "id": "9f86b493",
   "metadata": {},
   "source": [
    "Ok, we now have the songs ordered by popularity, and listening history for each user. To produce our submission file, we’ll need to load the canonical ordering of users:"
   ]
  },
  {
   "cell_type": "code",
   "execution_count": 17,
   "id": "51232415",
   "metadata": {},
   "outputs": [],
   "source": [
    "f = open('/Users/sinasaba/Desktop/MillionSongSubset/AdditionalFiles/kaggle/kaggle_users.txt', 'r')\n",
    "canonical_users = map(lambda line: line.strip(), f.readlines()) \n",
    "f.close()"
   ]
  },
  {
   "cell_type": "markdown",
   "id": "73f3d5f5",
   "metadata": {},
   "source": [
    "we now have the list of users in the order expected in the submission. The first two users are: "
   ]
  },
  {
   "cell_type": "code",
   "execution_count": 18,
   "id": "76e44d07",
   "metadata": {
    "scrolled": true
   },
   "outputs": [],
   "source": [
    "canonical_users = list(canonical_users)"
   ]
  },
  {
   "cell_type": "markdown",
   "id": "66edd97c",
   "metadata": {},
   "source": [
    "We are almost there, but we're missing one more thing. To reduce the size of submission files, we do not submit a list of song IDs such as SOSOUKN12A8C13AB79, but rather their index in the canonical list of songs.\n",
    "\n",
    "\n",
    "Let's create the map from song ID to song index (for those unfamiliar with python, this line is even more magic than before)."
   ]
  },
  {
   "cell_type": "code",
   "execution_count": 20,
   "id": "4f0dcffa",
   "metadata": {},
   "outputs": [],
   "source": [
    "g = open('/Users/sinasaba/Desktop/MillionSongSubset/AdditionalFiles/kaggle/kaggle_songs.txt', 'r')\n",
    "song_to_index = dict(map(lambda line: line.strip().split(' '), g.readlines()))\n",
    "g.close()"
   ]
  },
  {
   "cell_type": "markdown",
   "id": "5e308b3e",
   "metadata": {},
   "source": [
    "Finally, we are ready to create the submission file. For each user in the canonical list, recommend the songs in order of popularity, except those already in the user’s profile."
   ]
  },
  {
   "cell_type": "code",
   "execution_count": 22,
   "id": "2448dd04",
   "metadata": {},
   "outputs": [],
   "source": [
    "f = open('/Users/sinasaba/Desktop/MillionSongSubset/AdditionalFiles/kaggle/submission.txt', 'w')\n",
    "for user in list(canonical_users):\n",
    "    songs_to_recommend = []\n",
    "    for song in songs_orderd:\n",
    "        if len(songs_to_recommend) >= 500:\n",
    "            break\n",
    "        if not song in user_to_songs[user]:\n",
    "            songs_to_recommend.append(song)\n",
    "    # Transform song IDs to song indexes\n",
    "    indices = map(lambda s: song_to_index[s],\n",
    "                  songs_to_recommend)\n",
    "    # Write line for that user\n",
    "    f.write(' '.join(indices) + '\\n')\n",
    "    \n",
    "f.close()"
   ]
  },
  {
   "cell_type": "markdown",
   "id": "f0bff87c",
   "metadata": {},
   "source": [
    "And that's it! We have our submission file: submission.txt"
   ]
  }
 ],
 "metadata": {
  "kernelspec": {
   "display_name": "Python 3 (ipykernel)",
   "language": "python",
   "name": "python3"
  },
  "language_info": {
   "codemirror_mode": {
    "name": "ipython",
    "version": 3
   },
   "file_extension": ".py",
   "mimetype": "text/x-python",
   "name": "python",
   "nbconvert_exporter": "python",
   "pygments_lexer": "ipython3",
   "version": "3.9.7"
  }
 },
 "nbformat": 4,
 "nbformat_minor": 5
}
